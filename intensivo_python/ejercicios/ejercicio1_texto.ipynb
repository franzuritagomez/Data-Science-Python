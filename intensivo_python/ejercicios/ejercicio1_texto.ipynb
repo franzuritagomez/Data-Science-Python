{
 "cells": [
  {
   "cell_type": "markdown",
   "metadata": {},
   "source": [
    "## Ejercicio Variables de Texto 1"
   ]
  },
  {
   "cell_type": "markdown",
   "metadata": {},
   "source": [
    "- Crea dos variables de texto: *saludo* y *nombre*.\n",
    "\n",
    "- Asigna el valor **\"Hola\"** a saludo y tu **nombre** a nombre.\n",
    "\n",
    "- Concatena estas dos variables para formar un mensaje de saludo completo y guárdalo en una variable llamada *mensajeCompleto*. No olvides el espacio entre ambas palabras o el ejercicio te dará error.\n",
    "\n",
    "- Finalmente, imprime mensajeCompleto."
   ]
  },
  {
   "cell_type": "code",
   "execution_count": 1,
   "metadata": {},
   "outputs": [
    {
     "name": "stdout",
     "output_type": "stream",
     "text": [
      "Hola Fran\n"
     ]
    }
   ],
   "source": [
    "saludo = \"Hola\"\n",
    "nombre = \"Fran\"\n",
    "\n",
    "mensajeCompleto = saludo + \" \" + nombre\n",
    "\n",
    "print(mensajeCompleto)"
   ]
  }
 ],
 "metadata": {
  "kernelspec": {
   "display_name": "Python 3",
   "language": "python",
   "name": "python3"
  },
  "language_info": {
   "codemirror_mode": {
    "name": "ipython",
    "version": 3
   },
   "file_extension": ".py",
   "mimetype": "text/x-python",
   "name": "python",
   "nbconvert_exporter": "python",
   "pygments_lexer": "ipython3",
   "version": "3.11.9"
  }
 },
 "nbformat": 4,
 "nbformat_minor": 2
}
