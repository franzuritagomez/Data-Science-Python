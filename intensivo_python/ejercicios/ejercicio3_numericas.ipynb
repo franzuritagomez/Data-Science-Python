{
 "cells": [
  {
   "cell_type": "markdown",
   "metadata": {},
   "source": [
    "## Ejercicio Variables Númericas 3"
   ]
  },
  {
   "cell_type": "markdown",
   "metadata": {},
   "source": [
    "- Crea tres variables: *a*, *b* y *c*.\n",
    "\n",
    "- Asigna los valores **10**, **20** y **30** a estas variables respectivamente.\n",
    "\n",
    "- Calcula la suma de *a* y *b*, y resta *c* del resultado. Guarda este resultado final en una variable llamada *resultadoFinal*.\n",
    "\n",
    "- Imprime el *resultado*."
   ]
  },
  {
   "cell_type": "code",
   "execution_count": 1,
   "metadata": {},
   "outputs": [
    {
     "name": "stdout",
     "output_type": "stream",
     "text": [
      "0\n"
     ]
    }
   ],
   "source": [
    "a = 10\n",
    "b = 20\n",
    "c = 30\n",
    "\n",
    "suma = a + b\n",
    "\n",
    "resultadoFinal = suma - c\n",
    "\n",
    "print(resultadoFinal)"
   ]
  }
 ],
 "metadata": {
  "kernelspec": {
   "display_name": "Python 3",
   "language": "python",
   "name": "python3"
  },
  "language_info": {
   "codemirror_mode": {
    "name": "ipython",
    "version": 3
   },
   "file_extension": ".py",
   "mimetype": "text/x-python",
   "name": "python",
   "nbconvert_exporter": "python",
   "pygments_lexer": "ipython3",
   "version": "3.11.9"
  }
 },
 "nbformat": 4,
 "nbformat_minor": 2
}
