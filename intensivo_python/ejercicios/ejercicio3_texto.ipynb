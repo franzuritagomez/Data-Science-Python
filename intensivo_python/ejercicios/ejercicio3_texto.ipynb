{
 "cells": [
  {
   "cell_type": "markdown",
   "metadata": {},
   "source": [
    "## Ejercicio Variables de Texto 3"
   ]
  },
  {
   "cell_type": "markdown",
   "metadata": {},
   "source": [
    "- Crea dos variables *texto1* y *texto2*.\n",
    "\n",
    "- Asigna el string **Viva python** a texto1 usando comillas simples, y asigna el mismo string a texto2 pero usando comillas dobles.\n",
    "\n",
    "- Crea una variable llamada *sonIguales*, que almacene el resultado de comprobar si *texto1* y *texto2* son iguales.\n",
    "\n",
    "- Imprime el valor de sonIguales."
   ]
  },
  {
   "cell_type": "code",
   "execution_count": 1,
   "metadata": {},
   "outputs": [
    {
     "name": "stdout",
     "output_type": "stream",
     "text": [
      "True\n"
     ]
    }
   ],
   "source": [
    "texto1 = \"Viva python\"\n",
    "texto2 = 'Viva python'\n",
    "\n",
    "sonIguales = texto1 == texto2\n",
    "\n",
    "print(sonIguales)"
   ]
  }
 ],
 "metadata": {
  "kernelspec": {
   "display_name": "Python 3",
   "language": "python",
   "name": "python3"
  },
  "language_info": {
   "codemirror_mode": {
    "name": "ipython",
    "version": 3
   },
   "file_extension": ".py",
   "mimetype": "text/x-python",
   "name": "python",
   "nbconvert_exporter": "python",
   "pygments_lexer": "ipython3",
   "version": "3.11.9"
  }
 },
 "nbformat": 4,
 "nbformat_minor": 2
}
