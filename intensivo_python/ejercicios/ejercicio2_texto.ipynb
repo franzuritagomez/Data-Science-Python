{
 "cells": [
  {
   "cell_type": "markdown",
   "metadata": {},
   "source": [
    "## Ejercicio Variables de Texto 2"
   ]
  },
  {
   "cell_type": "markdown",
   "metadata": {},
   "source": [
    "- Crea una variable frase que contenga el siguiente texto: *¿Te gustó más \"El Padrino\" o \"El Padrino II\"?*\n",
    "\n",
    "- Asegúrate de incluir las comillas internas en el texto como parte del string.\n",
    "\n",
    "- Imprime el contenido de frase."
   ]
  },
  {
   "cell_type": "code",
   "execution_count": 1,
   "metadata": {},
   "outputs": [
    {
     "name": "stdout",
     "output_type": "stream",
     "text": [
      "¿Te gustó más \"El Padrino\" o \"El Padrino II\"?\n"
     ]
    }
   ],
   "source": [
    "frase = '¿Te gustó más \"El Padrino\" o \"El Padrino II\"?'\n",
    "\n",
    "print(frase)"
   ]
  }
 ],
 "metadata": {
  "kernelspec": {
   "display_name": "Python 3",
   "language": "python",
   "name": "python3"
  },
  "language_info": {
   "codemirror_mode": {
    "name": "ipython",
    "version": 3
   },
   "file_extension": ".py",
   "mimetype": "text/x-python",
   "name": "python",
   "nbconvert_exporter": "python",
   "pygments_lexer": "ipython3",
   "version": "3.11.9"
  }
 },
 "nbformat": 4,
 "nbformat_minor": 2
}
